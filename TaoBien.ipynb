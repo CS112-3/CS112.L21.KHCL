{
  "nbformat": 4,
  "nbformat_minor": 0,
  "metadata": {
    "colab": {
      "name": "TaoBien.ipynb",
      "provenance": [],
      "collapsed_sections": [],
      "authorship_tag": "ABX9TyMgAN1ce/r+U1VG6XoENEM3",
      "include_colab_link": true
    },
    "kernelspec": {
      "name": "python3",
      "display_name": "Python 3"
    },
    "language_info": {
      "name": "python"
    }
  },
  "cells": [
    {
      "cell_type": "markdown",
      "metadata": {
        "id": "view-in-github",
        "colab_type": "text"
      },
      "source": [
        "<a href=\"https://colab.research.google.com/github/HUNDRED3421/CS112.L21.KHCL/blob/main/TaoBien.ipynb\" target=\"_parent\"><img src=\"https://colab.research.google.com/assets/colab-badge.svg\" alt=\"Open In Colab\"/></a>"
      ]
    },
    {
      "cell_type": "markdown",
      "metadata": {
        "id": "ZiNsBlO_cPH3"
      },
      "source": [
        "##TẢO BIỂN (1s, 50M)\n",
        "Tảo biển sinh sản rất nhanh khi có môi trường thuận lợi với chúng và có những loài còn tiết ra môi trường những chất độc hại.\n",
        "\n",
        "Một loại tảo nâu trong môi trường nước bị ô nhiễm nặng sinh sản theo quy luật sau:\n",
        "\n",
        "* Ngày đầu tiên (ngày 0) có n cá thể ở mức 1,\n",
        "* Ở mỗi ngày tiếp theo, mỗi cá thể mức **i** sinh ra **i** cá thể mức 1, các cá thể mới sinh sẽ sinh sôi, phát triển từ ngày hôm sau.\n",
        "* Bản thân các cá thể mức **i** phát triển thành mức **i+1** và chu kỳ phát triển trong ngày chấm dứt.\n",
        "Hãy xác định sau **k** ngày trong nước biển có bao nhiêu cá thể.\n",
        "\n",
        "**Dữ liệu:** Vào từ thiết bị nhập chuẩn gồm một dòng chứa 2 số nguyên **n và k** (1 ≤ n ≤ 1000, 1 ≤ k ≤ $10^{17}$).\n",
        "\n",
        "**Kết quả:** Đưa ra thiết bị xuất chuẩn **một số nguyên* – số lượng cá thể  tảo theo mô đun $10^9+7$."
      ]
    },
    {
      "cell_type": "markdown",
      "metadata": {
        "id": "2C0ROzEjhfMF"
      },
      "source": [
        "Thực hiện các yêu cầu cho mỗi bài toán:\n",
        "1. Abstraction: phát biểu lại bài toán chỉ bằng 1 câu\n",
        "2. Pattern Recognition: tên dạng bài toán/kỹ thuật được áp dụng, các đặc điểm nhận dạng\n",
        "3. Algorithm designed: thuật toán để giải quyết bài toán (trình bày bằng mã giả/ lưu đồ)\n",
        "4. Đánh giá độ phức tạp thuật toán\n",
        "5. Programming: cài đặt chương trình bằng NNLT Python"
      ]
    },
    {
      "cell_type": "markdown",
      "metadata": {
        "id": "E5QAzeU_p3V1"
      },
      "source": [
        "##Bài làm\n",
        "1. Abstraction: cho hai số n và k(1 <= n <= 1000, 1 <= k <= $10^{17}$), $f(0) = n, f(1) = n, f(2) = 3n, f(k) = 3*f(k-1) - f(k-2)$. tính tổng $f(0) + f(1) + ... + f(k)$ theo mo do dun $10^9+7$\n",
        "2. Pattern Recognition: bài toán quy hoạch động, giải quyết bài toán lớn thông qua những bài toán nhỏ hơn.\n",
        "3. Algorithm Designed:\n",
        "\n",
        "if $k == 0$ return $n$ \n",
        "\n",
        "elif $k == 1$ return $n$\n",
        "\n",
        "else \n",
        "\n",
        ">$f0=0$\n",
        "  \n",
        ">$f1=n$\n",
        "        \n",
        ">$fk=2*n$\n",
        "\n",
        ">for i in range(2, k+1):\n",
        "\n",
        "\n",
        ">> f0=f1\n",
        "\n",
        ">>f1=fk\n",
        "\n",
        ">>fk=(3*f1 - f0)%(1e9+7)\n",
        "        \n",
        ">>return int(fk)\n",
        "\n",
        "4. Time complexity: O(n)\n",
        "\n",
        "5. Programming\n",
        "\n"
      ]
    },
    {
      "cell_type": "code",
      "metadata": {
        "colab": {
          "base_uri": "https://localhost:8080/"
        },
        "id": "ObsBel24pz7n",
        "outputId": "145adc32-2697-4222-ac7e-1cedf477a4b2"
      },
      "source": [
        "def Tao_Solve2(n, k):\n",
        "    if 0==k:\n",
        "        return n\n",
        "    elif 1==k:\n",
        "        return 2*n\n",
        "    else:\n",
        "        f0=0\n",
        "        f1=n\n",
        "        fk=2*n\n",
        "        for i in range(2, int(k+1)):\n",
        "            f0=f1\n",
        "            f1=fk\n",
        "            fk=(3*f1 - f0)%(1e9+7)\n",
        "        return int(fk)\n",
        "        \n",
        "l = input().split()\n",
        "n, k = [int(x) for x in l]\n",
        "print(Tao_Solve2(n,k))"
      ],
      "execution_count": 1,
      "outputs": [
        {
          "output_type": "stream",
          "text": [
            "3 2\n",
            "15\n"
          ],
          "name": "stdout"
        }
      ]
    }
  ]
}